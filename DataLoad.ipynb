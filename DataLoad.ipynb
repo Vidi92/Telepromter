{
 "cells": [
  {
   "cell_type": "markdown",
   "metadata": {},
   "source": [
    "# Imports"
   ]
  },
  {
   "cell_type": "code",
   "execution_count": null,
   "metadata": {},
   "outputs": [],
   "source": [
    "import pandas as pd\n",
    "import pyodbc\n",
    "import numpy as np"
   ]
  },
  {
   "cell_type": "markdown",
   "metadata": {},
   "source": [
    "# Database connection credentials"
   ]
  },
  {
   "cell_type": "code",
   "execution_count": 8,
   "metadata": {},
   "outputs": [],
   "source": [
    "server = 'bixsql01.bixpert.local'  \n",
    "database = 'JDS_Verseny_DEV'\n",
    "username = 'sa'\n",
    "password = 'Galeria1'\n",
    "driver = '{ODBC Driver 17 for SQL Server}'\n",
    "\n",
    "conn_str = f'DRIVER={driver};SERVER={server};DATABASE={database};UID={username};PWD={password}'\n",
    "conn = pyodbc.connect(conn_str)"
   ]
  },
  {
   "cell_type": "markdown",
   "metadata": {},
   "source": [
    "## Event table"
   ]
  },
  {
   "cell_type": "code",
   "execution_count": 9,
   "metadata": {},
   "outputs": [
    {
     "name": "stderr",
     "output_type": "stream",
     "text": [
      "/var/folders/h8/jsx_20090y338vjhdy9lwbnc0000gn/T/ipykernel_4253/3097665812.py:3: UserWarning: pandas only supports SQLAlchemy connectable (engine/connection) or database string URI or sqlite3 DBAPI2 connection. Other DBAPI2 objects are not tested. Please consider using SQLAlchemy.\n",
      "  events = pd.read_sql(query, conn)\n"
     ]
    },
    {
     "data": {
      "text/html": [
       "<div>\n",
       "<style scoped>\n",
       "    .dataframe tbody tr th:only-of-type {\n",
       "        vertical-align: middle;\n",
       "    }\n",
       "\n",
       "    .dataframe tbody tr th {\n",
       "        vertical-align: top;\n",
       "    }\n",
       "\n",
       "    .dataframe thead th {\n",
       "        text-align: right;\n",
       "    }\n",
       "</style>\n",
       "<table border=\"1\" class=\"dataframe\">\n",
       "  <thead>\n",
       "    <tr style=\"text-align: right;\">\n",
       "      <th></th>\n",
       "      <th>EVENTID</th>\n",
       "      <th>EVENTDESC</th>\n",
       "      <th>EVENTLONGDESC</th>\n",
       "      <th>EVENT_SORTID</th>\n",
       "      <th>EVENT_VALID</th>\n",
       "    </tr>\n",
       "  </thead>\n",
       "  <tbody>\n",
       "    <tr>\n",
       "      <th>0</th>\n",
       "      <td>1</td>\n",
       "      <td>Not_Defined</td>\n",
       "      <td>None</td>\n",
       "      <td>1</td>\n",
       "      <td>1</td>\n",
       "    </tr>\n",
       "    <tr>\n",
       "      <th>1</th>\n",
       "      <td>2</td>\n",
       "      <td>$ae_first_open</td>\n",
       "      <td>None</td>\n",
       "      <td>1</td>\n",
       "      <td>1</td>\n",
       "    </tr>\n",
       "    <tr>\n",
       "      <th>2</th>\n",
       "      <td>3</td>\n",
       "      <td>$ae_iap</td>\n",
       "      <td>None</td>\n",
       "      <td>1</td>\n",
       "      <td>1</td>\n",
       "    </tr>\n",
       "    <tr>\n",
       "      <th>3</th>\n",
       "      <td>4</td>\n",
       "      <td>$ae_session</td>\n",
       "      <td>None</td>\n",
       "      <td>1</td>\n",
       "      <td>1</td>\n",
       "    </tr>\n",
       "    <tr>\n",
       "      <th>4</th>\n",
       "      <td>5</td>\n",
       "      <td>$ae_updated</td>\n",
       "      <td>None</td>\n",
       "      <td>1</td>\n",
       "      <td>1</td>\n",
       "    </tr>\n",
       "    <tr>\n",
       "      <th>...</th>\n",
       "      <td>...</td>\n",
       "      <td>...</td>\n",
       "      <td>...</td>\n",
       "      <td>...</td>\n",
       "      <td>...</td>\n",
       "    </tr>\n",
       "    <tr>\n",
       "      <th>95</th>\n",
       "      <td>96</td>\n",
       "      <td>CaptureService.setCustomExposure</td>\n",
       "      <td>None</td>\n",
       "      <td>1</td>\n",
       "      <td>1</td>\n",
       "    </tr>\n",
       "    <tr>\n",
       "      <th>96</th>\n",
       "      <td>97</td>\n",
       "      <td>checkSubscriptionStatus.Error</td>\n",
       "      <td>None</td>\n",
       "      <td>1</td>\n",
       "      <td>1</td>\n",
       "    </tr>\n",
       "    <tr>\n",
       "      <th>97</th>\n",
       "      <td>98</td>\n",
       "      <td>ChooseAccountViewController&lt;ChooseFacebookAcco...</td>\n",
       "      <td>None</td>\n",
       "      <td>1</td>\n",
       "      <td>1</td>\n",
       "    </tr>\n",
       "    <tr>\n",
       "      <th>98</th>\n",
       "      <td>99</td>\n",
       "      <td>ChooseAccountViewController&lt;ChooseFacebookAcco...</td>\n",
       "      <td>None</td>\n",
       "      <td>1</td>\n",
       "      <td>1</td>\n",
       "    </tr>\n",
       "    <tr>\n",
       "      <th>99</th>\n",
       "      <td>100</td>\n",
       "      <td>ChooseAccountViewController&lt;ChooseFacebookAcco...</td>\n",
       "      <td>None</td>\n",
       "      <td>1</td>\n",
       "      <td>1</td>\n",
       "    </tr>\n",
       "  </tbody>\n",
       "</table>\n",
       "<p>100 rows × 5 columns</p>\n",
       "</div>"
      ],
      "text/plain": [
       "    EVENTID                                          EVENTDESC EVENTLONGDESC  \\\n",
       "0         1                                        Not_Defined          None   \n",
       "1         2                                     $ae_first_open          None   \n",
       "2         3                                            $ae_iap          None   \n",
       "3         4                                        $ae_session          None   \n",
       "4         5                                        $ae_updated          None   \n",
       "..      ...                                                ...           ...   \n",
       "95       96                   CaptureService.setCustomExposure          None   \n",
       "96       97                      checkSubscriptionStatus.Error          None   \n",
       "97       98  ChooseAccountViewController<ChooseFacebookAcco...          None   \n",
       "98       99  ChooseAccountViewController<ChooseFacebookAcco...          None   \n",
       "99      100  ChooseAccountViewController<ChooseFacebookAcco...          None   \n",
       "\n",
       "    EVENT_SORTID  EVENT_VALID  \n",
       "0              1            1  \n",
       "1              1            1  \n",
       "2              1            1  \n",
       "3              1            1  \n",
       "4              1            1  \n",
       "..           ...          ...  \n",
       "95             1            1  \n",
       "96             1            1  \n",
       "97             1            1  \n",
       "98             1            1  \n",
       "99             1            1  \n",
       "\n",
       "[100 rows x 5 columns]"
      ]
     },
     "execution_count": 9,
     "metadata": {},
     "output_type": "execute_result"
    }
   ],
   "source": [
    "query = \"SELECT  * FROM L_EVENT\"\n",
    "\n",
    "events = pd.read_sql(query, conn)\n",
    "\n",
    "events.head(100)"
   ]
  },
  {
   "cell_type": "markdown",
   "metadata": {},
   "source": [
    "# Dataset"
   ]
  },
  {
   "cell_type": "code",
   "execution_count": 11,
   "metadata": {},
   "outputs": [
    {
     "name": "stderr",
     "output_type": "stream",
     "text": [
      "/var/folders/h8/jsx_20090y338vjhdy9lwbnc0000gn/T/ipykernel_4253/4198356449.py:3: UserWarning: pandas only supports SQLAlchemy connectable (engine/connection) or database string URI or sqlite3 DBAPI2 connection. Other DBAPI2 objects are not tested. Please consider using SQLAlchemy.\n",
      "  first_df = pd.read_sql(query, conn)\n"
     ]
    },
    {
     "data": {
      "text/html": [
       "<div>\n",
       "<style scoped>\n",
       "    .dataframe tbody tr th:only-of-type {\n",
       "        vertical-align: middle;\n",
       "    }\n",
       "\n",
       "    .dataframe tbody tr th {\n",
       "        vertical-align: top;\n",
       "    }\n",
       "\n",
       "    .dataframe thead th {\n",
       "        text-align: right;\n",
       "    }\n",
       "</style>\n",
       "<table border=\"1\" class=\"dataframe\">\n",
       "  <thead>\n",
       "    <tr style=\"text-align: right;\">\n",
       "      <th></th>\n",
       "      <th>event</th>\n",
       "      <th>event_time</th>\n",
       "      <th>distinct_id</th>\n",
       "      <th>os_version</th>\n",
       "      <th>country_code</th>\n",
       "    </tr>\n",
       "  </thead>\n",
       "  <tbody>\n",
       "    <tr>\n",
       "      <th>0</th>\n",
       "      <td>trial_started_event</td>\n",
       "      <td>1739723957</td>\n",
       "      <td>$device:user_06953970413949</td>\n",
       "      <td>unknown</td>\n",
       "      <td>unknown</td>\n",
       "    </tr>\n",
       "    <tr>\n",
       "      <th>1</th>\n",
       "      <td>trial_converted_event</td>\n",
       "      <td>1737753123</td>\n",
       "      <td>$device:user_70704306992540</td>\n",
       "      <td>unknown</td>\n",
       "      <td>unknown</td>\n",
       "    </tr>\n",
       "    <tr>\n",
       "      <th>2</th>\n",
       "      <td>trial_started_event</td>\n",
       "      <td>1739423863</td>\n",
       "      <td>user_43976219804144</td>\n",
       "      <td>unknown</td>\n",
       "      <td>unknown</td>\n",
       "    </tr>\n",
       "    <tr>\n",
       "      <th>3</th>\n",
       "      <td>trial_cancelled_event</td>\n",
       "      <td>1739772250</td>\n",
       "      <td>user_47696106159422</td>\n",
       "      <td>unknown</td>\n",
       "      <td>unknown</td>\n",
       "    </tr>\n",
       "    <tr>\n",
       "      <th>4</th>\n",
       "      <td>trial_started_event</td>\n",
       "      <td>1737624967</td>\n",
       "      <td>$device:user_62726075833536</td>\n",
       "      <td>unknown</td>\n",
       "      <td>unknown</td>\n",
       "    </tr>\n",
       "    <tr>\n",
       "      <th>...</th>\n",
       "      <td>...</td>\n",
       "      <td>...</td>\n",
       "      <td>...</td>\n",
       "      <td>...</td>\n",
       "      <td>...</td>\n",
       "    </tr>\n",
       "    <tr>\n",
       "      <th>95</th>\n",
       "      <td>trial_converted_event</td>\n",
       "      <td>1739842750</td>\n",
       "      <td>$device:user_11681579362468</td>\n",
       "      <td>unknown</td>\n",
       "      <td>unknown</td>\n",
       "    </tr>\n",
       "    <tr>\n",
       "      <th>96</th>\n",
       "      <td>trial_started_event</td>\n",
       "      <td>1736892060</td>\n",
       "      <td>$device:user_02494621415355</td>\n",
       "      <td>unknown</td>\n",
       "      <td>unknown</td>\n",
       "    </tr>\n",
       "    <tr>\n",
       "      <th>97</th>\n",
       "      <td>trial_started_event</td>\n",
       "      <td>1736071175</td>\n",
       "      <td>$device:user_65449298927066</td>\n",
       "      <td>unknown</td>\n",
       "      <td>unknown</td>\n",
       "    </tr>\n",
       "    <tr>\n",
       "      <th>98</th>\n",
       "      <td>trial_started_event</td>\n",
       "      <td>1736023838</td>\n",
       "      <td>$device:user_27476709039245</td>\n",
       "      <td>unknown</td>\n",
       "      <td>unknown</td>\n",
       "    </tr>\n",
       "    <tr>\n",
       "      <th>99</th>\n",
       "      <td>trial_started_event</td>\n",
       "      <td>1736073426</td>\n",
       "      <td>$device:user_29304632040179</td>\n",
       "      <td>unknown</td>\n",
       "      <td>unknown</td>\n",
       "    </tr>\n",
       "  </tbody>\n",
       "</table>\n",
       "<p>100 rows × 5 columns</p>\n",
       "</div>"
      ],
      "text/plain": [
       "                    event  event_time                  distinct_id os_version  \\\n",
       "0     trial_started_event  1739723957  $device:user_06953970413949    unknown   \n",
       "1   trial_converted_event  1737753123  $device:user_70704306992540    unknown   \n",
       "2     trial_started_event  1739423863          user_43976219804144    unknown   \n",
       "3   trial_cancelled_event  1739772250          user_47696106159422    unknown   \n",
       "4     trial_started_event  1737624967  $device:user_62726075833536    unknown   \n",
       "..                    ...         ...                          ...        ...   \n",
       "95  trial_converted_event  1739842750  $device:user_11681579362468    unknown   \n",
       "96    trial_started_event  1736892060  $device:user_02494621415355    unknown   \n",
       "97    trial_started_event  1736071175  $device:user_65449298927066    unknown   \n",
       "98    trial_started_event  1736023838  $device:user_27476709039245    unknown   \n",
       "99    trial_started_event  1736073426  $device:user_29304632040179    unknown   \n",
       "\n",
       "   country_code  \n",
       "0       unknown  \n",
       "1       unknown  \n",
       "2       unknown  \n",
       "3       unknown  \n",
       "4       unknown  \n",
       "..          ...  \n",
       "95      unknown  \n",
       "96      unknown  \n",
       "97      unknown  \n",
       "98      unknown  \n",
       "99      unknown  \n",
       "\n",
       "[100 rows x 5 columns]"
      ]
     },
     "execution_count": 11,
     "metadata": {},
     "output_type": "execute_result"
    }
   ],
   "source": [
    "query = \"select * from teleprompter_hashed where event in ('trial_started_event', 'trial_cancelled_event', 'trial_converted_event')\"\n",
    "\n",
    "first_df = pd.read_sql(query, conn)\n",
    "\n",
    "first_df.head(100)"
   ]
  },
  {
   "cell_type": "markdown",
   "metadata": {},
   "source": [
    "## Hány user indított trailt?"
   ]
  },
  {
   "cell_type": "code",
   "execution_count": 22,
   "metadata": {},
   "outputs": [
    {
     "name": "stdout",
     "output_type": "stream",
     "text": [
      "A megadott idoszakban 19591 user kezdte meg a tesztidoszakot.\n"
     ]
    }
   ],
   "source": [
    "start_trial_users = first_df.loc[first_df.event=='trial_started_event', 'distinct_id'].unique()\n",
    "print(f\"A megadott idoszakban {len(start_trial_users)} user kezdte meg a tesztidoszakot.\")"
   ]
  },
  {
   "cell_type": "markdown",
   "metadata": {},
   "source": [
    "## Ebből hány user konvertált?"
   ]
  },
  {
   "cell_type": "code",
   "execution_count": 34,
   "metadata": {},
   "outputs": [
    {
     "name": "stdout",
     "output_type": "stream",
     "text": [
      "A megadott idoszakban 3384 user konvertalt azok kozul, akik a megadott idoszakban kezdtek meg a tesztidoszakot.\n"
     ]
    }
   ],
   "source": [
    "trial_converted_users = first_df.loc[first_df.event=='trial_converted_event', 'distinct_id'].unique()\n",
    "\n",
    "number_of_converted = len(np.intersect1d(start_trial_users, trial_converted_users))\n",
    "\n",
    "print(f\"A megadott idoszakban {number_of_converted} user konvertalt azok kozul, akik a megadott idoszakban kezdtek meg a tesztidoszakot.\")"
   ]
  },
  {
   "cell_type": "markdown",
   "metadata": {},
   "source": [
    "## Ebből hány mondta le az előfizetést?\n",
    "##### Itt arra vagyunk kiváncsiak, hogy hány user indított tesztidőszakot, fizetett elő és mondta le az előfizetést."
   ]
  },
  {
   "cell_type": "code",
   "execution_count": 38,
   "metadata": {},
   "outputs": [
    {
     "name": "stdout",
     "output_type": "stream",
     "text": [
      "897 user kezdte meg a tesztidoszakot, akik utana konvertaltak is es le is mondtak az elofizetest a rendelkezesre allo idoszakban (2025.01.01 – 2025.02.28.).\n"
     ]
    }
   ],
   "source": [
    "trial_cancelled_users = first_df.loc[first_df.event=='trial_cancelled_event', 'distinct_id'].unique()\n",
    "\n",
    "number_of_cancelled = len(np.intersect1d(trial_converted_users, trial_cancelled_users))\n",
    "\n",
    "print(f\"{number_of_cancelled} user kezdte meg a tesztidoszakot, akik utana konvertaltak is es le is mondtak az elofizetest a rendelkezesre allo idoszakban (2025.01.01 – 2025.02.28.).\")"
   ]
  },
  {
   "cell_type": "code",
   "execution_count": null,
   "metadata": {},
   "outputs": [],
   "source": []
  }
 ],
 "metadata": {
  "kernelspec": {
   "display_name": "3.12.2",
   "language": "python",
   "name": "python3"
  },
  "language_info": {
   "codemirror_mode": {
    "name": "ipython",
    "version": 3
   },
   "file_extension": ".py",
   "mimetype": "text/x-python",
   "name": "python",
   "nbconvert_exporter": "python",
   "pygments_lexer": "ipython3",
   "version": "3.12.2"
  }
 },
 "nbformat": 4,
 "nbformat_minor": 2
}
